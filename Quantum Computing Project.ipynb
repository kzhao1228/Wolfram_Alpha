{
 "cells": [
  {
   "cell_type": "code",
   "execution_count": 1,
   "metadata": {},
   "outputs": [],
   "source": [
    "import math\n",
    "import numpy as np\n",
    "from scipy.linalg import hadamard as hdm"
   ]
  },
  {
   "cell_type": "markdown",
   "metadata": {},
   "source": [
    "### Define the Hadamard gate"
   ]
  },
  {
   "cell_type": "code",
   "execution_count": 2,
   "metadata": {},
   "outputs": [],
   "source": [
    "def hadamard(n):\n",
    "    '''The definition of the Hadamard matrix'''\n",
    "    if n > 0:    \n",
    "        if n == 1:\n",
    "            return np.array([1])\n",
    "        elif np.math.log(n,2).is_integer():\n",
    "            ini = 1\n",
    "            for i in np.arange(0,np.math.log(n,2)):\n",
    "                ini = np.kron(np.array([[1,1],[1,-1]]),ini)\n",
    "            return ini\n",
    "        else:\n",
    "            print('Error: n has to be a result of 2 to some number')\n",
    "    else:\n",
    "        print('Error: n has to be positive')"
   ]
  },
  {
   "cell_type": "code",
   "execution_count": 3,
   "metadata": {},
   "outputs": [
    {
     "name": "stdout",
     "output_type": "stream",
     "text": [
      "Normal\n",
      "Normal\n",
      "Normal\n",
      "Normal\n",
      "Normal\n",
      "Normal\n",
      "Normal\n",
      "Normal\n",
      "Normal\n"
     ]
    }
   ],
   "source": [
    "for i in 2**np.arange(1,10):\n",
    "    if np.linalg.det(hdm(i) == hadamard(i)) != 0:\n",
    "        print('The error occurs at: ',i)\n",
    "    else:\n",
    "        print('Normal')"
   ]
  },
  {
   "cell_type": "code",
   "execution_count": 4,
   "metadata": {},
   "outputs": [],
   "source": [
    "zero = np.array([[1.0],[0.0]])\n",
    "one = np.array([[0.0],[1.0]])\n",
    "def one_n(n):\n",
    "    ini = 1\n",
    "    for i in np.arange(0,n):\n",
    "        ini = np.kron(one,ini)\n",
    "    return ini\n",
    "def zero_n(n):\n",
    "    ini = 1\n",
    "    for i in np.arange(0,n):\n",
    "        ini = np.kron(zero,ini)\n",
    "    return ini"
   ]
  },
  {
   "cell_type": "code",
   "execution_count": 5,
   "metadata": {},
   "outputs": [
    {
     "data": {
      "text/plain": [
       "array([[0., 0.],\n",
       "       [1., 0.]])"
      ]
     },
     "execution_count": 5,
     "metadata": {},
     "output_type": "execute_result"
    }
   ],
   "source": [
    "np.dot(one_n(1),zero_n(1).T)"
   ]
  }
 ],
 "metadata": {
  "kernelspec": {
   "display_name": "Python 3",
   "language": "python",
   "name": "python3"
  },
  "language_info": {
   "codemirror_mode": {
    "name": "ipython",
    "version": 3
   },
   "file_extension": ".py",
   "mimetype": "text/x-python",
   "name": "python",
   "nbconvert_exporter": "python",
   "pygments_lexer": "ipython3",
   "version": "3.7.1"
  }
 },
 "nbformat": 4,
 "nbformat_minor": 2
}
