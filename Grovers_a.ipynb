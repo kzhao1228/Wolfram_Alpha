%pylab inline
import math
import numpy as np


def hadamard(n):
    if n == 0:
        return np.array([1])
     else:
        ini = np.array([[1,1],[1,-1]])
        for i in np.arange(1,math.log(n,2)):
            ini = np.kron(np.array([[1,1],[1,-1]]),ini)
        return ini


